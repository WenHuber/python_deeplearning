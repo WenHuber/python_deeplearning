{
  "nbformat": 4,
  "nbformat_minor": 0,
  "metadata": {
    "colab": {
      "name": "chapter3_multi_calssification.ipynb",
      "version": "0.3.2",
      "provenance": [],
      "collapsed_sections": []
    },
    "kernelspec": {
      "name": "python3",
      "display_name": "Python 3"
    }
  },
  "cells": [
    {
      "metadata": {
        "id": "l9vQvuJhaIsa",
        "colab_type": "text"
      },
      "cell_type": "markdown",
      "source": [
        "新闻分类--多分类问题"
      ]
    },
    {
      "metadata": {
        "id": "lt5620xraQo-",
        "colab_type": "text"
      },
      "cell_type": "markdown",
      "source": [
        "加载路透社数据集"
      ]
    },
    {
      "metadata": {
        "id": "5ziuhuo2abM6",
        "colab_type": "code",
        "colab": {
          "base_uri": "https://localhost:8080/",
          "height": 52
        },
        "outputId": "dec94aca-69c3-4ed4-bc1c-6b9eb4db77f8"
      },
      "cell_type": "code",
      "source": [
        "from keras.datasets import reuters\n",
        "\n",
        "(train_data, train_labels), (test_data, test_labels) = reuters.load_data(num_words = 10000)\n",
        "\n",
        "print(len(train_data))\n",
        "\n",
        "print(len(test_data))"
      ],
      "execution_count": 2,
      "outputs": [
        {
          "output_type": "stream",
          "text": [
            "8982\n",
            "2246\n"
          ],
          "name": "stdout"
        }
      ]
    },
    {
      "metadata": {
        "id": "VYLAYCzsa9-E",
        "colab_type": "code",
        "colab": {
          "base_uri": "https://localhost:8080/",
          "height": 89
        },
        "outputId": "7d2e462a-1220-4163-cfa0-cc673df1e834"
      },
      "cell_type": "code",
      "source": [
        "print(type(train_data))\n",
        "\n",
        "print(train_data.shape)\n",
        "\n",
        "print(train_data[10])"
      ],
      "execution_count": 6,
      "outputs": [
        {
          "output_type": "stream",
          "text": [
            "<class 'numpy.ndarray'>\n",
            "(8982,)\n",
            "[1, 245, 273, 207, 156, 53, 74, 160, 26, 14, 46, 296, 26, 39, 74, 2979, 3554, 14, 46, 4689, 4329, 86, 61, 3499, 4795, 14, 61, 451, 4329, 17, 12]\n"
          ],
          "name": "stdout"
        }
      ]
    },
    {
      "metadata": {
        "id": "GhOWh8R8bGmH",
        "colab_type": "text"
      },
      "cell_type": "markdown",
      "source": [
        "将索引解码为新闻文本"
      ]
    },
    {
      "metadata": {
        "id": "bDW_Cq-tbfwh",
        "colab_type": "code",
        "colab": {
          "base_uri": "https://localhost:8080/",
          "height": 35
        },
        "outputId": "5af57aac-9445-493f-9440-b754c27acd0e"
      },
      "cell_type": "code",
      "source": [
        "word_index = reuters.get_word_index()\n",
        "reverse_word_index = dict([(value, key) for (key, value) in word_index.items()])\n",
        "decoded_newswire = ' '.join(reverse_word_index.get(i - 3, '?') for i in train_data[0])\n",
        "\n",
        "print(train_labels[10])"
      ],
      "execution_count": 8,
      "outputs": [
        {
          "output_type": "stream",
          "text": [
            "3\n"
          ],
          "name": "stdout"
        }
      ]
    },
    {
      "metadata": {
        "id": "2-ELDIkNcRx-",
        "colab_type": "text"
      },
      "cell_type": "markdown",
      "source": [
        "准备数据"
      ]
    },
    {
      "metadata": {
        "id": "TUWI3dAWcWOw",
        "colab_type": "code",
        "colab": {}
      },
      "cell_type": "code",
      "source": [
        "import numpy as np\n",
        "\n",
        "def vectorize_sequence(sequences, dimension = 10000):\n",
        "    results = np.zeros((len(sequences), dimension))\n",
        "    for i, sequence in enumerate(sequences):\n",
        "        results[i, sequence] = 1.\n",
        "    return results"
      ],
      "execution_count": 0,
      "outputs": []
    },
    {
      "metadata": {
        "id": "g49UaLE_dF9I",
        "colab_type": "text"
      },
      "cell_type": "markdown",
      "source": [
        "将数据向量化"
      ]
    },
    {
      "metadata": {
        "id": "ZUDPFuG5c54r",
        "colab_type": "code",
        "colab": {}
      },
      "cell_type": "code",
      "source": [
        "x_train = vectorize_sequence(train_data)\n",
        "x_test = vectorize_sequence(test_data)"
      ],
      "execution_count": 0,
      "outputs": []
    },
    {
      "metadata": {
        "id": "lQXQSi59dKo_",
        "colab_type": "text"
      },
      "cell_type": "markdown",
      "source": [
        "one-hot编码"
      ]
    },
    {
      "metadata": {
        "id": "qrAx1M0DeAKr",
        "colab_type": "code",
        "colab": {}
      },
      "cell_type": "code",
      "source": [
        "def to_one_hot(labels, dimension = 46):\n",
        "    results = np.zeros((len(labels), dimension))\n",
        "    for i, label in enumerate(labels):\n",
        "        results[i, label] = 1\n",
        "    return results"
      ],
      "execution_count": 0,
      "outputs": []
    },
    {
      "metadata": {
        "id": "lqV-AzBzeYxP",
        "colab_type": "code",
        "colab": {}
      },
      "cell_type": "code",
      "source": [
        "one_hot_train_labels = to_one_hot(train_labels)\n",
        "one_hot_test_labels = to_one_hot(test_labels)"
      ],
      "execution_count": 0,
      "outputs": []
    },
    {
      "metadata": {
        "id": "EaWAv7jkek6D",
        "colab_type": "text"
      },
      "cell_type": "markdown",
      "source": [
        "用keras内置方法实现标签one-hot分类"
      ]
    },
    {
      "metadata": {
        "id": "CO14BVNCe3-A",
        "colab_type": "code",
        "colab": {}
      },
      "cell_type": "code",
      "source": [
        "from keras.utils.np_utils import to_categorical\n",
        "\n",
        "one_hot_train_labels = to_categorical(train_labels)\n",
        "one_hot_test_labels = to_categorical(test_labels)"
      ],
      "execution_count": 0,
      "outputs": []
    },
    {
      "metadata": {
        "id": "i2JQVxZBfhZa",
        "colab_type": "text"
      },
      "cell_type": "markdown",
      "source": [
        "构建网络"
      ]
    },
    {
      "metadata": {
        "id": "_yGuM1dqf0sq",
        "colab_type": "code",
        "colab": {}
      },
      "cell_type": "code",
      "source": [
        "from keras import models\n",
        "from keras import layers\n",
        "\n",
        "model = models.Sequential()\n",
        "model.add(layers.Dense(64, activation = 'relu', input_shape = (10000, )))\n",
        "model.add(layers.Dense(64, activation = 'relu'))\n",
        "model.add(layers.Dense(46, activation = 'softmax'))"
      ],
      "execution_count": 0,
      "outputs": []
    },
    {
      "metadata": {
        "id": "bOmBtPTDgWQQ",
        "colab_type": "text"
      },
      "cell_type": "markdown",
      "source": [
        "编译模型"
      ]
    },
    {
      "metadata": {
        "id": "Bc1uPaCtgdb1",
        "colab_type": "code",
        "colab": {}
      },
      "cell_type": "code",
      "source": [
        "model.compile(optimizer = 'rmsprop', loss = 'categorical_crossentropy', metrics = ['accuracy'])"
      ],
      "execution_count": 0,
      "outputs": []
    },
    {
      "metadata": {
        "id": "LWtVolDpg_y1",
        "colab_type": "text"
      },
      "cell_type": "markdown",
      "source": [
        "验证集"
      ]
    },
    {
      "metadata": {
        "id": "HaQXEK2KhG9D",
        "colab_type": "code",
        "colab": {}
      },
      "cell_type": "code",
      "source": [
        "x_val = x_train[:1000]\n",
        "partial_x_train = x_train[1000:]\n",
        "\n",
        "y_val = one_hot_train_labels[:1000]\n",
        "partial_y_train = one_hot_train_labels[1000:]\n"
      ],
      "execution_count": 0,
      "outputs": []
    },
    {
      "metadata": {
        "id": "44wm2nb8hqH4",
        "colab_type": "text"
      },
      "cell_type": "markdown",
      "source": [
        "训练模型"
      ]
    },
    {
      "metadata": {
        "id": "0u0lSpvLhovE",
        "colab_type": "code",
        "colab": {
          "base_uri": "https://localhost:8080/",
          "height": 728
        },
        "outputId": "2c833697-7f31-4fca-8ebd-c5b1e6496e5c"
      },
      "cell_type": "code",
      "source": [
        "history = model.fit(partial_x_train, partial_y_train, epochs = 20, batch_size = 512, validation_data = (x_val, y_val))"
      ],
      "execution_count": 27,
      "outputs": [
        {
          "output_type": "stream",
          "text": [
            "Train on 7982 samples, validate on 1000 samples\n",
            "Epoch 1/20\n",
            "7982/7982 [==============================] - 2s 266us/step - loss: 2.5242 - acc: 0.4960 - val_loss: 1.7204 - val_acc: 0.6130\n",
            "Epoch 2/20\n",
            "7982/7982 [==============================] - 1s 172us/step - loss: 1.4457 - acc: 0.6885 - val_loss: 1.3484 - val_acc: 0.7080\n",
            "Epoch 3/20\n",
            "7982/7982 [==============================] - 1s 162us/step - loss: 1.0979 - acc: 0.7637 - val_loss: 1.1747 - val_acc: 0.7430\n",
            "Epoch 4/20\n",
            "7982/7982 [==============================] - 1s 163us/step - loss: 0.8722 - acc: 0.8160 - val_loss: 1.0784 - val_acc: 0.7600\n",
            "Epoch 5/20\n",
            "7982/7982 [==============================] - 1s 162us/step - loss: 0.7059 - acc: 0.8485 - val_loss: 0.9871 - val_acc: 0.7820\n",
            "Epoch 6/20\n",
            "7982/7982 [==============================] - 1s 157us/step - loss: 0.5686 - acc: 0.8797 - val_loss: 0.9434 - val_acc: 0.8040\n",
            "Epoch 7/20\n",
            "7982/7982 [==============================] - 1s 151us/step - loss: 0.4604 - acc: 0.9044 - val_loss: 0.9099 - val_acc: 0.8000\n",
            "Epoch 8/20\n",
            "7982/7982 [==============================] - 1s 153us/step - loss: 0.3713 - acc: 0.9228 - val_loss: 0.9333 - val_acc: 0.7910\n",
            "Epoch 9/20\n",
            "7982/7982 [==============================] - 1s 151us/step - loss: 0.3048 - acc: 0.9312 - val_loss: 0.8923 - val_acc: 0.8070\n",
            "Epoch 10/20\n",
            "7982/7982 [==============================] - 1s 147us/step - loss: 0.2551 - acc: 0.9410 - val_loss: 0.9044 - val_acc: 0.8140\n",
            "Epoch 11/20\n",
            "7982/7982 [==============================] - 1s 146us/step - loss: 0.2198 - acc: 0.9479 - val_loss: 0.9155 - val_acc: 0.8110\n",
            "Epoch 12/20\n",
            "7982/7982 [==============================] - 1s 147us/step - loss: 0.1887 - acc: 0.9509 - val_loss: 0.9075 - val_acc: 0.8130\n",
            "Epoch 13/20\n",
            "7982/7982 [==============================] - 1s 146us/step - loss: 0.1716 - acc: 0.9525 - val_loss: 0.9323 - val_acc: 0.8090\n",
            "Epoch 14/20\n",
            "7982/7982 [==============================] - 1s 145us/step - loss: 0.1540 - acc: 0.9550 - val_loss: 0.9648 - val_acc: 0.8060\n",
            "Epoch 15/20\n",
            "7982/7982 [==============================] - 1s 141us/step - loss: 0.1400 - acc: 0.9559 - val_loss: 0.9698 - val_acc: 0.8130\n",
            "Epoch 16/20\n",
            "7982/7982 [==============================] - 1s 141us/step - loss: 0.1319 - acc: 0.9554 - val_loss: 1.0217 - val_acc: 0.8090\n",
            "Epoch 17/20\n",
            "7982/7982 [==============================] - 1s 142us/step - loss: 0.1226 - acc: 0.9579 - val_loss: 1.0344 - val_acc: 0.7930\n",
            "Epoch 18/20\n",
            "7982/7982 [==============================] - 1s 144us/step - loss: 0.1201 - acc: 0.9577 - val_loss: 1.0461 - val_acc: 0.8030\n",
            "Epoch 19/20\n",
            "7982/7982 [==============================] - 1s 142us/step - loss: 0.1141 - acc: 0.9594 - val_loss: 1.0988 - val_acc: 0.7990\n",
            "Epoch 20/20\n",
            "7982/7982 [==============================] - 1s 143us/step - loss: 0.1114 - acc: 0.9595 - val_loss: 1.0717 - val_acc: 0.8000\n"
          ],
          "name": "stdout"
        }
      ]
    },
    {
      "metadata": {
        "id": "yTKZaU6xiSxD",
        "colab_type": "text"
      },
      "cell_type": "markdown",
      "source": [
        "绘制训练损失和验证损失"
      ]
    },
    {
      "metadata": {
        "id": "eKXLR73_ileK",
        "colab_type": "code",
        "colab": {
          "base_uri": "https://localhost:8080/",
          "height": 377
        },
        "outputId": "7f7a70f5-673d-470c-b706-e195e48f40c3"
      },
      "cell_type": "code",
      "source": [
        "import matplotlib.pyplot as plt\n",
        "\n",
        "loss = history.history['loss']\n",
        "val_loss = history.history['val_loss']\n",
        "\n",
        "epochs = range(1, len(loss) + 1)\n",
        "\n",
        "plt.plot(epochs, loss, 'bo', label = 'Training loss')\n",
        "plt.plot(epochs, val_loss, 'b', label = 'Validation loss')\n",
        "plt.title('Training And Validation Loss')\n",
        "plt.xlabel('Epochs')\n",
        "plt.ylabel('Loss')\n",
        "plt.legend()\n",
        "plt.show()"
      ],
      "execution_count": 33,
      "outputs": [
        {
          "output_type": "display_data",
          "data": {
            "image/png": "[encoded data removed]",
            "text/plain": [
              "<matplotlib.figure.Figure at 0x7f76c63c9d68>"
            ]
          },
          "metadata": {
            "tags": []
          }
        }
      ]
    },
    {
      "metadata": {
        "id": "wcH2beDEkvEU",
        "colab_type": "text"
      },
      "cell_type": "markdown",
      "source": [
        "绘制训练精度和验证精度"
      ]
    },
    {
      "metadata": {
        "id": "BlTBiW5plI44",
        "colab_type": "code",
        "colab": {
          "base_uri": "https://localhost:8080/",
          "height": 377
        },
        "outputId": "dc362504-2418-4e55-97f1-abda9deee36c"
      },
      "cell_type": "code",
      "source": [
        "plt.clf()\n",
        "\n",
        "acc = history.history['acc']\n",
        "val_acc = history.history['val_acc']\n",
        "\n",
        "plt.plot(epochs, acc, 'bo', label = 'Training acc')\n",
        "plt.plot(epochs, val_acc, 'b', label = 'Validation acc')\n",
        "plt.title('Training And Validation Accuracy')\n",
        "plt.xlabel('Epochs')\n",
        "plt.ylabel('Accuracy')\n",
        "plt.legend()\n",
        "plt.show()"
      ],
      "execution_count": 36,
      "outputs": [
        {
          "output_type": "display_data",
          "data": {
            "image/png": "[encoded data removed]",
            "text/plain": [
              "<matplotlib.figure.Figure at 0x7f76c693d160>"
            ]
          },
          "metadata": {
            "tags": []
          }
        }
      ]
    },
    {
      "metadata": {
        "id": "YLiAM50Om3Wy",
        "colab_type": "text"
      },
      "cell_type": "markdown",
      "source": [
        "重新训练一个模型"
      ]
    },
    {
      "metadata": {
        "id": "ulRWEqHjm7jI",
        "colab_type": "code",
        "colab": {
          "base_uri": "https://localhost:8080/",
          "height": 763
        },
        "outputId": "6a50dbac-edab-417b-a573-0f3d7f4aa29f"
      },
      "cell_type": "code",
      "source": [
        "model = models.Sequential()\n",
        "model.add(layers.Dense(64, activation = 'relu', input_shape = (10000, )))\n",
        "model.add(layers.Dense(64, activation = 'relu'))\n",
        "model.add(layers.Dense(46, activation = 'softmax'))\n",
        "\n",
        "model.compile(optimizer = 'rmsprop', loss = 'categorical_crossentropy', metrics = ['accuracy'])\n",
        "\n",
        "model.fit(partial_x_train, partial_y_train, epochs = 20, batch_size = 512, validation_data = (x_val, y_val))\n",
        "\n",
        "results = model.evaluate(x_test, one_hot_test_labels)\n",
        "print(results)"
      ],
      "execution_count": 37,
      "outputs": [
        {
          "output_type": "stream",
          "text": [
            "Train on 7982 samples, validate on 1000 samples\n",
            "Epoch 1/20\n",
            "7982/7982 [==============================] - 2s 196us/step - loss: 2.5389 - acc: 0.5227 - val_loss: 1.6739 - val_acc: 0.6570\n",
            "Epoch 2/20\n",
            "7982/7982 [==============================] - 1s 162us/step - loss: 1.3724 - acc: 0.7121 - val_loss: 1.2766 - val_acc: 0.7220\n",
            "Epoch 3/20\n",
            "7982/7982 [==============================] - 1s 144us/step - loss: 1.0149 - acc: 0.7779 - val_loss: 1.1320 - val_acc: 0.7530\n",
            "Epoch 4/20\n",
            "7982/7982 [==============================] - 1s 143us/step - loss: 0.7985 - acc: 0.8246 - val_loss: 1.0543 - val_acc: 0.7590\n",
            "Epoch 5/20\n",
            "7982/7982 [==============================] - 1s 142us/step - loss: 0.6399 - acc: 0.8623 - val_loss: 0.9759 - val_acc: 0.7930\n",
            "Epoch 6/20\n",
            "7982/7982 [==============================] - 1s 142us/step - loss: 0.5126 - acc: 0.8920 - val_loss: 0.9107 - val_acc: 0.8090\n",
            "Epoch 7/20\n",
            "7982/7982 [==============================] - 1s 143us/step - loss: 0.4122 - acc: 0.9149 - val_loss: 0.8921 - val_acc: 0.8220\n",
            "Epoch 8/20\n",
            "7982/7982 [==============================] - 1s 142us/step - loss: 0.3357 - acc: 0.9288 - val_loss: 0.8736 - val_acc: 0.8260\n",
            "Epoch 9/20\n",
            "7982/7982 [==============================] - 1s 143us/step - loss: 0.2783 - acc: 0.9366 - val_loss: 0.9345 - val_acc: 0.8010\n",
            "Epoch 10/20\n",
            "7982/7982 [==============================] - 1s 143us/step - loss: 0.2315 - acc: 0.9461 - val_loss: 0.9168 - val_acc: 0.8140\n",
            "Epoch 11/20\n",
            "7982/7982 [==============================] - 1s 143us/step - loss: 0.2005 - acc: 0.9520 - val_loss: 0.9164 - val_acc: 0.8200\n",
            "Epoch 12/20\n",
            "7982/7982 [==============================] - 1s 144us/step - loss: 0.1821 - acc: 0.9515 - val_loss: 0.9265 - val_acc: 0.8180\n",
            "Epoch 13/20\n",
            "7982/7982 [==============================] - 1s 142us/step - loss: 0.1589 - acc: 0.9540 - val_loss: 0.9955 - val_acc: 0.8010\n",
            "Epoch 14/20\n",
            "7982/7982 [==============================] - 1s 143us/step - loss: 0.1468 - acc: 0.9559 - val_loss: 0.9668 - val_acc: 0.8060\n",
            "Epoch 15/20\n",
            "7982/7982 [==============================] - 1s 144us/step - loss: 0.1356 - acc: 0.9548 - val_loss: 0.9829 - val_acc: 0.8120\n",
            "Epoch 16/20\n",
            "7982/7982 [==============================] - 1s 142us/step - loss: 0.1280 - acc: 0.9563 - val_loss: 1.0302 - val_acc: 0.8000\n",
            "Epoch 17/20\n",
            "7982/7982 [==============================] - 1s 143us/step - loss: 0.1247 - acc: 0.9564 - val_loss: 1.0000 - val_acc: 0.8120\n",
            "Epoch 18/20\n",
            "7982/7982 [==============================] - 1s 143us/step - loss: 0.1160 - acc: 0.9597 - val_loss: 1.0146 - val_acc: 0.8200\n",
            "Epoch 19/20\n",
            "7982/7982 [==============================] - 1s 143us/step - loss: 0.1178 - acc: 0.9572 - val_loss: 1.0857 - val_acc: 0.8020\n",
            "Epoch 20/20\n",
            "7982/7982 [==============================] - 1s 146us/step - loss: 0.1107 - acc: 0.9579 - val_loss: 1.0599 - val_acc: 0.8140\n",
            "2246/2246 [==============================] - 0s 183us/step\n",
            "[1.2055885914915498, 0.7871772039180766]\n"
          ],
          "name": "stdout"
        }
      ]
    },
    {
      "metadata": {
        "id": "Tgmenj1Xnplw",
        "colab_type": "text"
      },
      "cell_type": "markdown",
      "source": [
        "本例中完全随机的精度"
      ]
    },
    {
      "metadata": {
        "id": "NYAPkwyWoEk-",
        "colab_type": "code",
        "colab": {
          "base_uri": "https://localhost:8080/",
          "height": 35
        },
        "outputId": "c9b0ab7a-cbaa-4e84-abbf-fb75e960784b"
      },
      "cell_type": "code",
      "source": [
        "import copy\n",
        "\n",
        "test_labels_copy = copy.copy(test_labels)\n",
        "np.random.shuffle(test_labels_copy)\n",
        "hits_array = np.array(test_labels) == np.array(test_labels_copy)\n",
        "float(np.sum(hits_array)) / len(test_labels)"
      ],
      "execution_count": 38,
      "outputs": [
        {
          "output_type": "execute_result",
          "data": {
            "text/plain": [
              "0.1829919857524488"
            ]
          },
          "metadata": {
            "tags": []
          },
          "execution_count": 38
        }
      ]
    },
    {
      "metadata": {
        "id": "DIfPOOYMowQm",
        "colab_type": "text"
      },
      "cell_type": "markdown",
      "source": [
        "在新数据上生成预测结果"
      ]
    },
    {
      "metadata": {
        "id": "LC28DPkFo9OK",
        "colab_type": "code",
        "colab": {
          "base_uri": "https://localhost:8080/",
          "height": 69
        },
        "outputId": "92188184-10ef-4b99-cf27-b2d66437bae8"
      },
      "cell_type": "code",
      "source": [
        "predictions = model.predict(x_test)\n",
        "\n",
        "print(predictions[0].shape)\n",
        "\n",
        "print(np.sum(predictions[0]))\n",
        "\n",
        "print(np.argmax(predictions[0]))"
      ],
      "execution_count": 39,
      "outputs": [
        {
          "output_type": "stream",
          "text": [
            "(46,)\n",
            "1.0\n",
            "3\n"
          ],
          "name": "stdout"
        }
      ]
    }
  ]
}